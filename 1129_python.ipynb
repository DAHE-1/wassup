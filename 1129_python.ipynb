{
 "cells": [
  {
   "cell_type": "code",
   "execution_count": 11,
   "id": "9009e4ab",
   "metadata": {
    "ExecuteTime": {
     "end_time": "2023-11-29T00:24:19.293415Z",
     "start_time": "2023-11-29T00:24:19.288953Z"
    }
   },
   "outputs": [
    {
     "name": "stdout",
     "output_type": "stream",
     "text": [
      "2 \n",
      "4 \n",
      "6 \n",
      "8 \n",
      "10 \n",
      "12 \n",
      "14 \n",
      "16 \n",
      "18 \n",
      "3 \n",
      "6 \n",
      "9 \n",
      "12 \n",
      "15 \n",
      "18 \n",
      "21 \n",
      "24 \n",
      "27 \n",
      "4 \n",
      "8 \n",
      "12 \n",
      "16 \n",
      "20 \n",
      "24 \n",
      "28 \n",
      "32 \n",
      "36 \n",
      "5 \n",
      "10 \n",
      "15 \n",
      "20 \n",
      "25 \n",
      "30 \n",
      "35 \n",
      "40 \n",
      "45 \n",
      "6 \n",
      "12 \n",
      "18 \n",
      "24 \n",
      "30 \n",
      "36 \n",
      "42 \n",
      "48 \n",
      "54 \n",
      "7 \n",
      "14 \n",
      "21 \n",
      "28 \n",
      "35 \n",
      "42 \n",
      "49 \n",
      "56 \n",
      "63 \n",
      "8 \n",
      "16 \n",
      "24 \n",
      "32 \n",
      "40 \n",
      "48 \n",
      "56 \n",
      "64 \n",
      "72 \n",
      "9 \n",
      "18 \n",
      "27 \n",
      "36 \n",
      "45 \n",
      "54 \n",
      "63 \n",
      "72 \n",
      "81 \n"
     ]
    }
   ],
   "source": [
    "#2중 포문\n",
    "\n",
    "for i in range(2,10):\n",
    "    for j in range(1,10):\n",
    "        print (i*j, end = \" \")\n",
    "        print ('')"
   ]
  },
  {
   "cell_type": "code",
   "execution_count": 12,
   "id": "f1978d7e",
   "metadata": {
    "ExecuteTime": {
     "end_time": "2023-11-29T00:33:47.488187Z",
     "start_time": "2023-11-29T00:33:47.483733Z"
    }
   },
   "outputs": [
    {
     "name": "stdout",
     "output_type": "stream",
     "text": [
      "x 2\n",
      "y 1\n",
      "y 2\n",
      "y 3\n",
      "y 4\n",
      "y 5\n",
      "y 6\n",
      "y 7\n",
      "y 8\n",
      "y 9\n",
      "x 3\n",
      "y 1\n",
      "y 2\n",
      "y 3\n",
      "y 4\n",
      "y 5\n",
      "y 6\n",
      "y 7\n",
      "y 8\n",
      "y 9\n",
      "x 4\n",
      "y 1\n",
      "y 2\n",
      "y 3\n",
      "y 4\n",
      "y 5\n",
      "y 6\n",
      "y 7\n",
      "y 8\n",
      "y 9\n",
      "x 5\n",
      "y 1\n",
      "y 2\n",
      "y 3\n",
      "y 4\n",
      "y 5\n",
      "y 6\n",
      "y 7\n",
      "y 8\n",
      "y 9\n",
      "x 6\n",
      "y 1\n",
      "y 2\n",
      "y 3\n",
      "y 4\n",
      "y 5\n",
      "y 6\n",
      "y 7\n",
      "y 8\n",
      "y 9\n",
      "x 7\n",
      "y 1\n",
      "y 2\n",
      "y 3\n",
      "y 4\n",
      "y 5\n",
      "y 6\n",
      "y 7\n",
      "y 8\n",
      "y 9\n",
      "x 8\n",
      "y 1\n",
      "y 2\n",
      "y 3\n",
      "y 4\n",
      "y 5\n",
      "y 6\n",
      "y 7\n",
      "y 8\n",
      "y 9\n",
      "x 9\n",
      "y 1\n",
      "y 2\n",
      "y 3\n",
      "y 4\n",
      "y 5\n",
      "y 6\n",
      "y 7\n",
      "y 8\n",
      "y 9\n"
     ]
    }
   ],
   "source": [
    "for i in range(2,10):\n",
    "    print('x',i)\n",
    "    for j in range(1,10):\n",
    "        print('y',j)"
   ]
  },
  {
   "cell_type": "code",
   "execution_count": 21,
   "id": "888554d8",
   "metadata": {
    "ExecuteTime": {
     "end_time": "2023-11-29T00:38:09.634256Z",
     "start_time": "2023-11-29T00:38:09.630163Z"
    }
   },
   "outputs": [
    {
     "name": "stdout",
     "output_type": "stream",
     "text": [
      "====2단 시작 ====\n",
      "2*1=2\n",
      "2*2=4\n",
      "2*3=6\n",
      "2*4=8\n",
      "2*5=10\n",
      "2*6=12\n",
      "2*7=14\n",
      "2*8=16\n",
      "2*9=18\n",
      "====3단 시작 ====\n",
      "3*1=3\n",
      "3*2=6\n",
      "3*3=9\n",
      "3*4=12\n",
      "3*5=15\n",
      "3*6=18\n",
      "3*7=21\n",
      "3*8=24\n",
      "3*9=27\n",
      "====4단 시작 ====\n",
      "4*1=4\n",
      "4*2=8\n",
      "4*3=12\n",
      "4*4=16\n",
      "4*5=20\n",
      "4*6=24\n",
      "4*7=28\n",
      "4*8=32\n",
      "4*9=36\n",
      "====5단 시작 ====\n",
      "5*1=5\n",
      "5*2=10\n",
      "5*3=15\n",
      "5*4=20\n",
      "5*5=25\n",
      "5*6=30\n",
      "5*7=35\n",
      "5*8=40\n",
      "5*9=45\n",
      "====6단 시작 ====\n",
      "6*1=6\n",
      "6*2=12\n",
      "6*3=18\n",
      "6*4=24\n",
      "6*5=30\n",
      "6*6=36\n",
      "6*7=42\n",
      "6*8=48\n",
      "6*9=54\n",
      "====7단 시작 ====\n",
      "7*1=7\n",
      "7*2=14\n",
      "7*3=21\n",
      "7*4=28\n",
      "7*5=35\n",
      "7*6=42\n",
      "7*7=49\n",
      "7*8=56\n",
      "7*9=63\n",
      "====8단 시작 ====\n",
      "8*1=8\n",
      "8*2=16\n",
      "8*3=24\n",
      "8*4=32\n",
      "8*5=40\n",
      "8*6=48\n",
      "8*7=56\n",
      "8*8=64\n",
      "8*9=72\n",
      "====9단 시작 ====\n",
      "9*1=9\n",
      "9*2=18\n",
      "9*3=27\n",
      "9*4=36\n",
      "9*5=45\n",
      "9*6=54\n",
      "9*7=63\n",
      "9*8=72\n",
      "9*9=81\n"
     ]
    }
   ],
   "source": [
    "for i in range(2,10):\n",
    "    print(f'===={i}단 시작 ====')\n",
    "    for j in range(1,10):\n",
    "        print(f'{i}*{j}={i*j}')"
   ]
  },
  {
   "cell_type": "code",
   "execution_count": 22,
   "id": "abedaac9",
   "metadata": {
    "ExecuteTime": {
     "end_time": "2023-11-29T00:38:50.053708Z",
     "start_time": "2023-11-29T00:38:50.049156Z"
    }
   },
   "outputs": [
    {
     "name": "stdout",
     "output_type": "stream",
     "text": [
      "[3, 6, 9, 12]\n"
     ]
    }
   ],
   "source": [
    "#리스트 컴프리헨션 - 리스트 안에 포문 포함\n",
    "a = [1,2,3,4]\n",
    "result = []\n",
    "for num in a:\n",
    "    result.append(num*3)\n",
    "print(result)"
   ]
  },
  {
   "cell_type": "code",
   "execution_count": 23,
   "id": "5d281dd8",
   "metadata": {
    "ExecuteTime": {
     "end_time": "2023-11-29T01:00:41.738731Z",
     "start_time": "2023-11-29T01:00:41.633658Z"
    }
   },
   "outputs": [
    {
     "name": "stdout",
     "output_type": "stream",
     "text": [
      "List Comprehension Time: 0.030896425247192383\n",
      "For loop Time: 0.06976628303527832\n"
     ]
    }
   ],
   "source": [
    "import time\n",
    "\n",
    "start = time.time() \n",
    "numbers = [i for i in range(1000000)] \n",
    "end = time.time() \n",
    "print('List Comprehension Time:', end-start)\n",
    "\n",
    "start = time.time() \n",
    "numbers = []\n",
    "for i in range(1000000):\n",
    "    numbers.append(i)\n",
    "end = time.time() \n",
    "print('For loop Time:', end-start)"
   ]
  },
  {
   "cell_type": "code",
   "execution_count": 24,
   "id": "0879e60a",
   "metadata": {
    "ExecuteTime": {
     "end_time": "2023-11-29T01:05:57.322781Z",
     "start_time": "2023-11-29T01:05:57.320407Z"
    }
   },
   "outputs": [],
   "source": [
    "#위키독스 300제 반복문 풀기\n",
    "#제어문 연습문제 풀기"
   ]
  },
  {
   "cell_type": "code",
   "execution_count": null,
   "id": "986a1486",
   "metadata": {},
   "outputs": [],
   "source": []
  },
  {
   "cell_type": "code",
   "execution_count": null,
   "id": "ec5ed77a",
   "metadata": {},
   "outputs": [],
   "source": []
  }
 ],
 "metadata": {
  "kernelspec": {
   "display_name": "Python 3 (ipykernel)",
   "language": "python",
   "name": "python3"
  },
  "language_info": {
   "codemirror_mode": {
    "name": "ipython",
    "version": 3
   },
   "file_extension": ".py",
   "mimetype": "text/x-python",
   "name": "python",
   "nbconvert_exporter": "python",
   "pygments_lexer": "ipython3",
   "version": "3.11.5"
  },
  "toc": {
   "base_numbering": 1,
   "nav_menu": {},
   "number_sections": true,
   "sideBar": true,
   "skip_h1_title": false,
   "title_cell": "Table of Contents",
   "title_sidebar": "Contents",
   "toc_cell": false,
   "toc_position": {},
   "toc_section_display": true,
   "toc_window_display": false
  }
 },
 "nbformat": 4,
 "nbformat_minor": 5
}
